{
 "cells": [
  {
   "cell_type": "code",
   "execution_count": null,
   "metadata": {
    "id": "L-QIvGJdktoJ"
   },
   "outputs": [],
   "source": [
    "import matplotlib.font_manager as fm\n",
    "\n",
    "!apt-get -qq -y install fonts-nanum > /dev/null\n",
    "fontpath = '/usr/share/fonts/truetype/nanum/NanumBarunGothic.ttf'\n",
    "font = fm.FontProperties(fname=fontpath, size=9)\n",
    "fm._rebuild()"
   ]
  },
  {
   "cell_type": "code",
   "execution_count": null,
   "metadata": {
    "id": "J42QXU8Z_WJp"
   },
   "outputs": [],
   "source": [
    "import os\n",
    "os.kill(os.getpid(), 9)"
   ]
  },
  {
   "cell_type": "code",
   "execution_count": null,
   "metadata": {
    "id": "S4CLaD6X_WBx"
   },
   "outputs": [],
   "source": [
    "import matplotlib.pyplot as plt\n",
    "import matplotlib as mpl\n",
    "import matplotlib.font_manager as fm\n",
    "\n",
    "# 마이너스 표시 문제\n",
    "mpl.rcParams['axes.unicode_minus'] = False\n",
    "\t\n",
    "# 한글 폰트 설정\n",
    "path = '/usr/share/fonts/truetype/nanum/NanumGothicBold.ttf'\n",
    "font_name = fm.FontProperties(fname=path, size=18).get_name()\n",
    "plt.rc('font', family=font_name)\n",
    "fm._rebuild()"
   ]
  },
  {
   "cell_type": "code",
   "execution_count": null,
   "metadata": {
    "id": "RGosllEHyWxm"
   },
   "outputs": [],
   "source": [
    "import os\n",
    "import numpy as np\n",
    "import pandas as pd\n",
    "import sys\n",
    "\n",
    "%matplotlib inline\n",
    "import matplotlib.pylab as plt\n",
    "import seaborn as sns\n",
    "plt.rcParams[\"figure.figsize\"] = (20, 10)\n",
    "\n",
    "path = '/content/drive/MyDrive/data/LPOINT/'"
   ]
  },
  {
   "cell_type": "code",
   "execution_count": null,
   "metadata": {
    "id": "IR0Bs80Eyb1f"
   },
   "outputs": [],
   "source": [
    "file_list = os.listdir(path)\n",
    "file_list"
   ]
  },
  {
   "cell_type": "code",
   "execution_count": null,
   "metadata": {
    "id": "odwdOPgjyd0y"
   },
   "outputs": [],
   "source": [
    "'''\n",
    "DEMO - 고객 데모\n",
    "PDDE - 유통사 상품 구매 내역\n",
    "PD_CLAC - 상품 분류 정보\n",
    "BR - 점포 정보\n",
    "COP_U -  제휴사 이용 정보\n",
    "LPAY - 엘페이 이용\n",
    "'''\n",
    "\n",
    "demo = pd.read_csv(path + file_list[0])\n",
    "pdde = pd.read_csv(path + file_list[4])                                            \n",
    "cop_u = pd.read_csv(path + file_list[2])\n",
    "pd_clac = pd.read_csv(path + file_list[1])\n",
    "br = pd.read_csv(path + file_list[3])\n",
    "lpay = pd.read_csv(path + file_list[5])"
   ]
  },
  {
   "cell_type": "code",
   "execution_count": null,
   "metadata": {
    "id": "v-5F6p_-Qojg"
   },
   "outputs": [],
   "source": [
    "pd_ = pd.merge(pd_clac, pdde) \n",
    "pd_.cop_c = pd_.pd_nm\n",
    "pd_ = pd_.drop(['br_c', 'pd_nm','clac_hlv_nm','clac_mcls_nm'], axis=1)\n",
    "data1 = pd.merge(demo,pd.concat([cop_u, pd_]))\n",
    "data1['buy_ct'] = data1['buy_ct'].fillna(1)\n",
    "data1 = data1.drop(['vst_dt','pd_c'],axis= 1)\n",
    "data1.columns = ['고객번호','성별','연령대','거주지대분류코드','영수증번호','상품코드','점포코드','채널구분','구매일자','구매시간','구매금액','구매수량']"
   ]
  },
  {
   "cell_type": "code",
   "execution_count": null,
   "metadata": {
    "id": "zXLfH0RUvYLo"
   },
   "outputs": [],
   "source": [
    "np.set_printoptions(threshold=sys.maxsize)\n",
    "data1['상품코드'].unique()"
   ]
  },
  {
   "cell_type": "code",
   "execution_count": null,
   "metadata": {
    "id": "YrsSDwjpE7Vn"
   },
   "outputs": [],
   "source": [
    "# 추천에 무의미하다고 생각한 상품들은 제거하고 진행 \n",
    "\n",
    "data = data1[(data1['상품코드'] != '봉투 보증금') & (data1['상품코드'] != '종량제봉투') & (data1['상품코드'] != '임대매출')]"
   ]
  },
  {
   "cell_type": "code",
   "execution_count": null,
   "metadata": {
    "id": "tTpHC4Z2yb9_"
   },
   "outputs": [],
   "source": [
    "agg_data1 = data1.groupby(['구매시간', '연령대', '성별'], as_index=False)[['고객번호']].count().rename(columns={'고객번호' : '구매건수'})\n",
    "male = agg_data1[agg_data1['성별']=='남성']\n",
    "female = agg_data1[agg_data1['성별']=='여성']\n",
    "\n",
    "# 남성\n",
    "plt.subplot(2,1,1)\n",
    "plt.title('시간대별 남성고객의 구매 분포', fontsize = 14)\n",
    "sns.barplot(data=male, x='구매시간', y='구매건수', hue='연령대')\n",
    "plt.xlabel('구매시간', fontsize = 12)\n",
    "\n",
    "# 여성\n",
    "plt.subplot(2,1,2)\n",
    "plt.title('시간대별 여성고객의 구매 분포', fontsize = 14)\n",
    "sns.barplot(data=female, x='구매시간', y='구매건수', hue='연령대')\n",
    "plt.xlabel('구매시간', fontsize = 12)\n",
    "\n",
    "plt.show()\n",
    "\n",
    "\n",
    "# 40대가 가장 많이 이용했으며, 주 이용 시간은 15시 ~ 19시이다.\n",
    "# 성비로는 여성 고객이 대략 2배 정도 더 많이 이용 하였다."
   ]
  },
  {
   "cell_type": "code",
   "execution_count": null,
   "metadata": {
    "id": "FK9GecZuyb6c"
   },
   "outputs": [],
   "source": [
    "def flat_columns(df):\n",
    "    df.columns = ['_'.join(x) for x in df.columns.to_flat_index()]\n",
    "    return df\n",
    "\n",
    "agg_df = (flat_columns(data1.groupby(['상품코드'], as_index=False)[['구매수량', '구매금액']].agg({ '구매수량' : ['count', 'max', 'min'],\n",
    "           '구매금액' : ['max', 'min', 'mean', 'std']})).fillna(0)\n",
    ").rename(columns = {'상품코드_' : '상품코드', '구매수량_count' : '총판매건수',\n",
    "                    '구매수량_max' : '최다동시판매수', '구매수량_min' : '최소동시판매수',\n",
    "                    '구매금액_max' : '판매최고가', '구매금액_min' : '판매최저가', \n",
    "                    '구매금액_mean' : '판매평균가', '구매금액_std' : '판매표준편차'}).set_index('상품코드')"
   ]
  },
  {
   "cell_type": "code",
   "execution_count": null,
   "metadata": {
    "id": "G6XfdmLoGq1I"
   },
   "outputs": [],
   "source": [
    "agg_df.tail()"
   ]
  },
  {
   "cell_type": "code",
   "execution_count": null,
   "metadata": {
    "id": "T-evnbL9jcAi"
   },
   "outputs": [],
   "source": [
    "# 상품의 퀄리티에 비해 가격이 싸다고 느낀 데이터들이 존재\n",
    "\n",
    "agg_df[agg_df['판매최저가'] < 100].tail()"
   ]
  },
  {
   "cell_type": "code",
   "execution_count": null,
   "metadata": {
    "id": "y5vJBBcNkIxM"
   },
   "outputs": [],
   "source": [
    "# 금액이 1000 이하의 데이터들을 이상치로 여겨 제거\n",
    "\n",
    "data = data1[data1['구매금액'] > 1000]"
   ]
  },
  {
   "cell_type": "code",
   "execution_count": null,
   "metadata": {
    "id": "V3L86zCalWW3"
   },
   "outputs": [],
   "source": [
    "data.to_csv(\"data.csv\")"
   ]
  },
  {
   "cell_type": "code",
   "execution_count": null,
   "metadata": {
    "id": "TXtdafQxybxi"
   },
   "outputs": [],
   "source": [
    "# 특정 상품들이 채널별로 유통의 차이가 명확하게 식별되어\n",
    "# 가장 명확한 상품들을 구분하여 유통채널별로 상위 10개의 상품을 조회\n",
    "\n",
    "agg_data = pd.pivot_table(data, values='구매수량', index='상품코드', columns='채널구분', aggfunc=np.sum).fillna(0)\n",
    "agg_data['유통차이'] = agg_data[1] - agg_data[2] # 양수이면 오프라인 판매량이 더 많은경우, 음수이면 온라인 판매량이 더 많은 경우에 해당\n",
    "\n",
    "offline_data = agg_data[agg_data['유통차이'] > 0].abs().sort_values(by='유통차이', ascending=False)[:10]\n",
    "online_data = agg_data[agg_data['유통차이'] < 0].abs().sort_values(by='유통차이', ascending=False)[:10]\n",
    "\n",
    "# 온라인 top10\n",
    "fig, ax = plt.subplots(figsize=(20, 10))\n",
    "plt.subplot(2,1,1)\n",
    "sns.barplot(data=online_data, x=online_data.index, y='유통차이')\n",
    "plt.xlabel('온라인 상위 상품')\n",
    "plt.ylabel('온라인 - 오프라인')\n",
    "\n",
    "# 오프라인 top10\n",
    "plt.subplot(2,1,2)\n",
    "sns.barplot(data=offline_data, x=offline_data.index, y='유통차이')\n",
    "plt.xlabel('오프라인 상위 상품')\n",
    "plt.ylabel('오프라인 - 온라인')\n",
    "\n",
    "# 온라인 상위 상품은 대부분 냉동, 냉장 식품 또는 온라인으로 구매가 용이한 상품이 존재한다.\n",
    "# 오프라인의 경우 인근 마트에서 간단한게 살 수 있는 상품이 존재한다."
   ]
  },
  {
   "cell_type": "code",
   "execution_count": null,
   "metadata": {
    "id": "48dRpH0xPWQx"
   },
   "outputs": [],
   "source": [
    "# 구매일자를 datatime형으로 변환하기위해 '/'를 년, 월, 일 중간에 삽입해준다.\n",
    "\n",
    "def to_date(dt):\n",
    "    t_dt = dt[:4]+'/'+dt[4:6]+'/'+dt[6:]\n",
    "    return t_dt\n",
    "\n",
    "data['구매일자'] = data['구매일자'].astype('str').apply(to_date) \n",
    "\n",
    "# 대부분이 2021년도의 구매데이터인것으로 확인된다. \n",
    "# 고객별 구매한 날짜를 기준으로 편차를 확인하기 위해 2021/01/01을 1로 기준을 잡아서 2021/12/31이 365가 되게 구매 날짜 컬럼을 만든다.\n",
    "\n",
    "data = data.assign(구매날짜 = (pd.to_datetime(data['구매일자'])-pd.to_datetime('2021/01/01')).astype(str))\n",
    "def to_num(dt):\n",
    "    t_num = dt[:-5]\n",
    "    return t_num\n",
    "data['구매날짜'] = data['구매날짜'].apply(to_num).astype('int')\n",
    "data['구매날짜'] = data['구매날짜'] + 1 # 0부터 시작하기에 1씩 더한다."
   ]
  },
  {
   "cell_type": "code",
   "execution_count": null,
   "metadata": {
    "id": "RPdiaCaOPWNb"
   },
   "outputs": [],
   "source": [
    "# 구매일자를 datatime형태로 변환한 뒤, weekday()함수를 활용하여 요일을 컬럼을 생성\n",
    "# 0: 월요일 ~ 6: 일요일\n",
    "\n",
    "data['구매일자'] = pd.to_datetime(data['구매일자'])\n",
    "\n",
    "def t_week(dt):\n",
    "    tw = dt.weekday()\n",
    "    return tw\n",
    "\n",
    "data = data.assign(구매요일 = data['구매일자'].apply(t_week))"
   ]
  },
  {
   "cell_type": "code",
   "execution_count": null,
   "metadata": {
    "id": "ZzrM0K9mRq9h"
   },
   "outputs": [],
   "source": [
    "from sklearn.preprocessing import LabelEncoder\n",
    "\n",
    "# 성별, 연령대 컬럼 Label Encoding 진행\n",
    "# 성별: 0(남성), 1(여성)\n",
    "# 연령대: 0(20대) ~ 5(70대)\n",
    "\n",
    "data.iloc[:, 1:3] = \\\n",
    "data.iloc[:, 1:3].apply(LabelEncoder().fit_transform)"
   ]
  },
  {
   "cell_type": "code",
   "execution_count": null,
   "metadata": {
    "id": "x7hTPBIsUQgx"
   },
   "outputs": [],
   "source": [
    "# 각 요일별 구매 수량을 확인\n",
    "\n",
    "data_bydate = data.groupby(['구매요일'])['구매수량'].agg('count')\n",
    "data_bydate.plot(kind = 'bar')\n",
    "plt.xlabel('구매요일', fontsize=15)\n",
    "plt.xticks(fontsize=14, rotation = 0)\n",
    "\n",
    "# 금요일에 조금 올라가면서, 토요일에 급격하게 늘어나는 것을 확인할 수 있다."
   ]
  },
  {
   "cell_type": "code",
   "execution_count": null,
   "metadata": {
    "id": "ds3Q27SaTXkR"
   },
   "outputs": [],
   "source": [
    "# 꾸준히 이용한 고객을 구매일자의 표준편차가 큰 고객으로 가정하여 고객별 충성도 계산\n",
    "# 그리고 표준편차에 1년에 구매 횟수의 비율을 곱하여 충성도를 계산하였다.\n",
    "\n",
    "loyal = pd.DataFrame((data.groupby('고객번호').구매날짜.agg(np.std).fillna(0) * (data.groupby('고객번호').고객번호.agg('count')/365))).reset_index()\n",
    "loyal.columns = ['고객번호','충성도']\n",
    "data = pd.merge(data,loyal)"
   ]
  },
  {
   "cell_type": "code",
   "execution_count": null,
   "metadata": {
    "id": "fhKhKeqnTXhc"
   },
   "outputs": [],
   "source": [
    "# 충성도에 대한 상관관계를 보면, 컬럼과의 연관성이 없다는 것을 볼 수 있다.\n",
    "\n",
    "data.corr().충성도"
   ]
  },
  {
   "cell_type": "code",
   "execution_count": null,
   "metadata": {
    "id": "0I5ZOqr0Hbik"
   },
   "outputs": [],
   "source": [
    "# 성별과 연령대를 기준으로 t-sne 시각화 2개 진행\n",
    "# 데이터 양이 크기에 약 23000개로 샘플링\n",
    "# stratify는 층화 추출 의미\n",
    "\n",
    "from sklearn.model_selection import StratifiedShuffleSplit, train_test_split\n",
    "\n",
    "# 시각화에 영향을 미칠만한 컬럼 선정 \n",
    "data_tsne = data[['성별', '연령대', '거주지대분류코드', '상품코드', '채널구분', '구매시간', '구매금액']]\n",
    "\n",
    "tsne_sample_sex, test = train_test_split(data_tsne, test_size = 0.995, random_state = 42, stratify = data_tsne['성별'])\n",
    "tsne_sample_age, test = train_test_split(data_tsne, test_size = 0.995, random_state = 42, stratify = data_tsne['연령대'])\n",
    "print(tsne_sample_sex.shape, tsne_sample_age.shape)"
   ]
  },
  {
   "cell_type": "code",
   "execution_count": null,
   "metadata": {
    "id": "xWPvUvSlESDg"
   },
   "outputs": [],
   "source": [
    "# 거주지, 상품 - one hot encoding\n",
    "\n",
    "tsne_sample_sex = pd.get_dummies(tsne_sample_sex, columns = ['거주지대분류코드', '상품코드'])\n",
    "tsne_sample_age = pd.get_dummies(tsne_sample_age, columns = ['거주지대분류코드', '상품코드'])"
   ]
  },
  {
   "cell_type": "code",
   "execution_count": null,
   "metadata": {
    "id": "UobeZsKyc54l"
   },
   "outputs": [],
   "source": [
    "from sklearn.manifold import TSNE\n",
    "plt.rc('axes', unicode_minus=False)\n",
    "\n",
    "tsne = TSNE(random_state = 42)\n",
    "tsne_sex = tsne.fit_transform(tsne_sample_sex)\n",
    "\n",
    "tsne_df = pd.DataFrame(tsne_sex, columns = ['component 0', 'component 1'])\n",
    "tsne_df['sex'] = tsne_sample_sex['성별'].values\n",
    "tsne_df_0 = tsne_df[tsne_df['sex'] == 0]\n",
    "tsne_df_1 = tsne_df[tsne_df['sex'] == 1]\n",
    "\n",
    "plt.figure(figsize=(10,10))\n",
    "plt.scatter(tsne_df_0['component 0'], tsne_df_0['component 1'], color = 'red', label = 'male')\n",
    "plt.scatter(tsne_df_1['component 0'], tsne_df_1['component 1'], color = 'blue', label = 'female')\n",
    " \n",
    "plt.xlabel(\"t-SNE 특성 0\")\n",
    "plt.ylabel(\"t-SNE 특성 1\")"
   ]
  },
  {
   "cell_type": "code",
   "execution_count": null,
   "metadata": {
    "id": "P6IucSXCmUSe"
   },
   "outputs": [],
   "source": [
    "plt.rc('axes', unicode_minus=False)\n",
    "tsne_age = tsne.fit_transform(tsne_sample_age)\n",
    "\n",
    "tsne_df = pd.DataFrame(tsne_age, columns = ['component 0', 'component 1'])\n",
    "tsne_df['age'] = tsne_sample_sex['연령대'].values\n",
    "tsne_df_0 = tsne_df[tsne_df['age'] == 0]\n",
    "tsne_df_1 = tsne_df[tsne_df['age'] == 1]\n",
    "tsne_df_2 = tsne_df[tsne_df['age'] == 2]\n",
    "tsne_df_3 = tsne_df[tsne_df['age'] == 3]\n",
    "tsne_df_4 = tsne_df[tsne_df['age'] == 4]\n",
    "tsne_df_5 = tsne_df[tsne_df['age'] == 5]\n",
    "\n",
    "plt.figure(figsize=(10,10))\n",
    "\n",
    "plt.scatter(tsne_df_0['component 0'], tsne_df_0['component 1'],  label = '20대')\n",
    "plt.scatter(tsne_df_1['component 0'], tsne_df_1['component 1'],  label = '30대')\n",
    "plt.scatter(tsne_df_2['component 0'], tsne_df_2['component 1'],  label = '40대')\n",
    "plt.scatter(tsne_df_3['component 0'], tsne_df_3['component 1'],  label = '50대')\n",
    "plt.scatter(tsne_df_4['component 0'], tsne_df_4['component 1'],  label = '60대')\n",
    "plt.scatter(tsne_df_5['component 0'], tsne_df_5['component 1'],  label = '70대')\n",
    " \n",
    "plt.xlabel(\"t-SNE 특성 0\")\n",
    "plt.ylabel(\"t-SNE 특성 1\")"
   ]
  }
 ],
 "metadata": {
  "colab": {
   "collapsed_sections": [],
   "name": "Lpoint.ipynb",
   "private_outputs": true,
   "provenance": []
  },
  "gpuClass": "standard",
  "kernelspec": {
   "display_name": "Python 3 (ipykernel)",
   "language": "python",
   "name": "python3"
  },
  "language_info": {
   "codemirror_mode": {
    "name": "ipython",
    "version": 3
   },
   "file_extension": ".py",
   "mimetype": "text/x-python",
   "name": "python",
   "nbconvert_exporter": "python",
   "pygments_lexer": "ipython3",
   "version": "3.9.7"
  }
 },
 "nbformat": 4,
 "nbformat_minor": 4
}
